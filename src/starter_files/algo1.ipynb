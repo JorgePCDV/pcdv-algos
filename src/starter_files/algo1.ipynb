{
 "cells": [
  {
   "cell_type": "code",
   "id": "initial_id",
   "metadata": {
    "collapsed": true,
    "ExecuteTime": {
     "end_time": "2025-09-25T21:28:38.985389Z",
     "start_time": "2025-09-25T21:28:37.816556Z"
    }
   },
   "source": [
    "import yfinance as yf\n",
    "import pandas as pd\n",
    "import numpy as np\n",
    "import matplotlib.pyplot as plt"
   ],
   "outputs": [],
   "execution_count": 1
  },
  {
   "metadata": {
    "ExecuteTime": {
     "end_time": "2025-09-25T21:28:41.613822Z",
     "start_time": "2025-09-25T21:28:40.928919Z"
    }
   },
   "cell_type": "code",
   "source": "Apple = yf.download('AAPL', start='2020-01-01', end='2025-09-25')",
   "id": "738774fd29e3fa62",
   "outputs": [
    {
     "name": "stderr",
     "output_type": "stream",
     "text": [
      "C:\\Users\\jorge\\AppData\\Local\\Temp\\ipykernel_12208\\1771864721.py:1: FutureWarning: YF.download() has changed argument auto_adjust default to True\n",
      "  Apple = yf.download('AAPL', start='2020-01-01', end='2025-09-25')\n",
      "[*********************100%***********************]  1 of 1 completed\n"
     ]
    }
   ],
   "execution_count": 2
  },
  {
   "metadata": {
    "ExecuteTime": {
     "end_time": "2025-09-25T21:28:55.772552Z",
     "start_time": "2025-09-25T21:28:55.757725Z"
    }
   },
   "cell_type": "code",
   "source": "Apple",
   "id": "29e5ac9ad3731697",
   "outputs": [
    {
     "data": {
      "text/plain": [
       "Price            Close        High         Low        Open     Volume\n",
       "Ticker            AAPL        AAPL        AAPL        AAPL       AAPL\n",
       "Date                                                                 \n",
       "2020-01-02   72.538528   72.598907   71.292319   71.545905  135480400\n",
       "2020-01-03   71.833305   72.594071   71.608700   71.765682  146322800\n",
       "2020-01-06   72.405685   72.444328   70.703020   70.954195  118387200\n",
       "2020-01-07   72.065140   72.671333   71.845362   72.415330  108872000\n",
       "2020-01-08   73.224403   73.526295   71.768079   71.768079  132079200\n",
       "...                ...         ...         ...         ...        ...\n",
       "2025-09-18  237.880005  241.199997  236.649994  239.970001   44249600\n",
       "2025-09-19  245.500000  246.300003  240.210007  241.229996  163741300\n",
       "2025-09-22  256.079987  256.640015  248.119995  248.300003  105517400\n",
       "2025-09-23  254.429993  257.339996  253.580002  255.880005   60275200\n",
       "2025-09-24  252.309998  255.740005  251.039993  255.220001   42303700\n",
       "\n",
       "[1440 rows x 5 columns]"
      ],
      "text/html": [
       "<div>\n",
       "<style scoped>\n",
       "    .dataframe tbody tr th:only-of-type {\n",
       "        vertical-align: middle;\n",
       "    }\n",
       "\n",
       "    .dataframe tbody tr th {\n",
       "        vertical-align: top;\n",
       "    }\n",
       "\n",
       "    .dataframe thead tr th {\n",
       "        text-align: left;\n",
       "    }\n",
       "\n",
       "    .dataframe thead tr:last-of-type th {\n",
       "        text-align: right;\n",
       "    }\n",
       "</style>\n",
       "<table border=\"1\" class=\"dataframe\">\n",
       "  <thead>\n",
       "    <tr>\n",
       "      <th>Price</th>\n",
       "      <th>Close</th>\n",
       "      <th>High</th>\n",
       "      <th>Low</th>\n",
       "      <th>Open</th>\n",
       "      <th>Volume</th>\n",
       "    </tr>\n",
       "    <tr>\n",
       "      <th>Ticker</th>\n",
       "      <th>AAPL</th>\n",
       "      <th>AAPL</th>\n",
       "      <th>AAPL</th>\n",
       "      <th>AAPL</th>\n",
       "      <th>AAPL</th>\n",
       "    </tr>\n",
       "    <tr>\n",
       "      <th>Date</th>\n",
       "      <th></th>\n",
       "      <th></th>\n",
       "      <th></th>\n",
       "      <th></th>\n",
       "      <th></th>\n",
       "    </tr>\n",
       "  </thead>\n",
       "  <tbody>\n",
       "    <tr>\n",
       "      <th>2020-01-02</th>\n",
       "      <td>72.538528</td>\n",
       "      <td>72.598907</td>\n",
       "      <td>71.292319</td>\n",
       "      <td>71.545905</td>\n",
       "      <td>135480400</td>\n",
       "    </tr>\n",
       "    <tr>\n",
       "      <th>2020-01-03</th>\n",
       "      <td>71.833305</td>\n",
       "      <td>72.594071</td>\n",
       "      <td>71.608700</td>\n",
       "      <td>71.765682</td>\n",
       "      <td>146322800</td>\n",
       "    </tr>\n",
       "    <tr>\n",
       "      <th>2020-01-06</th>\n",
       "      <td>72.405685</td>\n",
       "      <td>72.444328</td>\n",
       "      <td>70.703020</td>\n",
       "      <td>70.954195</td>\n",
       "      <td>118387200</td>\n",
       "    </tr>\n",
       "    <tr>\n",
       "      <th>2020-01-07</th>\n",
       "      <td>72.065140</td>\n",
       "      <td>72.671333</td>\n",
       "      <td>71.845362</td>\n",
       "      <td>72.415330</td>\n",
       "      <td>108872000</td>\n",
       "    </tr>\n",
       "    <tr>\n",
       "      <th>2020-01-08</th>\n",
       "      <td>73.224403</td>\n",
       "      <td>73.526295</td>\n",
       "      <td>71.768079</td>\n",
       "      <td>71.768079</td>\n",
       "      <td>132079200</td>\n",
       "    </tr>\n",
       "    <tr>\n",
       "      <th>...</th>\n",
       "      <td>...</td>\n",
       "      <td>...</td>\n",
       "      <td>...</td>\n",
       "      <td>...</td>\n",
       "      <td>...</td>\n",
       "    </tr>\n",
       "    <tr>\n",
       "      <th>2025-09-18</th>\n",
       "      <td>237.880005</td>\n",
       "      <td>241.199997</td>\n",
       "      <td>236.649994</td>\n",
       "      <td>239.970001</td>\n",
       "      <td>44249600</td>\n",
       "    </tr>\n",
       "    <tr>\n",
       "      <th>2025-09-19</th>\n",
       "      <td>245.500000</td>\n",
       "      <td>246.300003</td>\n",
       "      <td>240.210007</td>\n",
       "      <td>241.229996</td>\n",
       "      <td>163741300</td>\n",
       "    </tr>\n",
       "    <tr>\n",
       "      <th>2025-09-22</th>\n",
       "      <td>256.079987</td>\n",
       "      <td>256.640015</td>\n",
       "      <td>248.119995</td>\n",
       "      <td>248.300003</td>\n",
       "      <td>105517400</td>\n",
       "    </tr>\n",
       "    <tr>\n",
       "      <th>2025-09-23</th>\n",
       "      <td>254.429993</td>\n",
       "      <td>257.339996</td>\n",
       "      <td>253.580002</td>\n",
       "      <td>255.880005</td>\n",
       "      <td>60275200</td>\n",
       "    </tr>\n",
       "    <tr>\n",
       "      <th>2025-09-24</th>\n",
       "      <td>252.309998</td>\n",
       "      <td>255.740005</td>\n",
       "      <td>251.039993</td>\n",
       "      <td>255.220001</td>\n",
       "      <td>42303700</td>\n",
       "    </tr>\n",
       "  </tbody>\n",
       "</table>\n",
       "<p>1440 rows × 5 columns</p>\n",
       "</div>"
      ]
     },
     "execution_count": 3,
     "metadata": {},
     "output_type": "execute_result"
    }
   ],
   "execution_count": 3
  }
 ],
 "metadata": {
  "kernelspec": {
   "display_name": "Python 3",
   "language": "python",
   "name": "python3"
  },
  "language_info": {
   "codemirror_mode": {
    "name": "ipython",
    "version": 2
   },
   "file_extension": ".py",
   "mimetype": "text/x-python",
   "name": "python",
   "nbconvert_exporter": "python",
   "pygments_lexer": "ipython2",
   "version": "2.7.6"
  }
 },
 "nbformat": 4,
 "nbformat_minor": 5
}
